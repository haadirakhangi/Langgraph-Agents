{
  "nbformat": 4,
  "nbformat_minor": 0,
  "metadata": {
    "colab": {
      "provenance": [],
      "authorship_tag": "ABX9TyPdskNOnAUVSVPI2GrJ2yVb",
      "include_colab_link": true
    },
    "kernelspec": {
      "name": "python3",
      "display_name": "Python 3"
    },
    "language_info": {
      "name": "python"
    }
  },
  "cells": [
    {
      "cell_type": "markdown",
      "metadata": {
        "id": "view-in-github",
        "colab_type": "text"
      },
      "source": [
        "<a href=\"https://colab.research.google.com/github/haadirakhangi/Langgraph-Agents/blob/main/LangGraph.ipynb\" target=\"_parent\"><img src=\"https://colab.research.google.com/assets/colab-badge.svg\" alt=\"Open In Colab\"/></a>"
      ]
    },
    {
      "cell_type": "code",
      "execution_count": null,
      "metadata": {
        "collapsed": true,
        "id": "9dHZREDWgFsU"
      },
      "outputs": [],
      "source": [
        "!pip install langgraph langchain_community langchain_experimental langmem langchain-google-genai tavily-python"
      ]
    },
    {
      "cell_type": "code",
      "source": [
        "import os\n",
        "from google.colab import userdata\n",
        "os.environ['GOOGLE_API_KEY'] = userdata.get(\"GOOGLE_API_KEY\")\n",
        "os.environ['TAVILY_API_KEY'] = userdata.get(\"TAVILY_API_KEY\")"
      ],
      "metadata": {
        "id": "Q65-P5rpi4uJ"
      },
      "execution_count": null,
      "outputs": []
    },
    {
      "cell_type": "markdown",
      "source": [
        "# General Chatbot"
      ],
      "metadata": {
        "id": "hpL-462Chugf"
      }
    },
    {
      "cell_type": "code",
      "source": [
        "from typing import Annotated\n",
        "from typing_extensions import TypedDict\n",
        "from langgraph.graph import StateGraph, START, END\n",
        "from langgraph.graph.message import add_messages\n",
        "from langgraph.prebuilt import ToolNode, tools_condition\n",
        "from langchain_google_genai import ChatGoogleGenerativeAI"
      ],
      "metadata": {
        "id": "lFSwGlTXqavo"
      },
      "execution_count": null,
      "outputs": []
    },
    {
      "cell_type": "code",
      "source": [
        "class State(TypedDict):\n",
        "  messages: Annotated[list, add_messages]\n",
        "\n",
        "graph_builder = StateGraph(State)\n",
        "llm = ChatGoogleGenerativeAI(model=\"gemini-2.0-flash\")"
      ],
      "metadata": {
        "id": "ZfQQ_m9siumD"
      },
      "execution_count": null,
      "outputs": []
    },
    {
      "cell_type": "code",
      "source": [
        "def chatbot(state: State):\n",
        "  return {\"messages\": [llm.invoke(state[\"messages\"])]}\n",
        "\n",
        "graph_builder.add_node(\"chatbot\", chatbot)\n",
        "graph_builder.add_edge(START, \"chatbot\")\n",
        "graph_builder.add_edge(\"chatbot\", END)\n",
        "graph = graph_builder.compile()"
      ],
      "metadata": {
        "id": "RcC5BLjZklIl"
      },
      "execution_count": null,
      "outputs": []
    },
    {
      "cell_type": "code",
      "source": [
        "from IPython.display import Image, display\n",
        "\n",
        "try:\n",
        "    display(Image(graph.get_graph().draw_mermaid_png()))\n",
        "except Exception:\n",
        "    pass"
      ],
      "metadata": {
        "colab": {
          "base_uri": "https://localhost:8080/",
          "height": 251
        },
        "id": "OlHHIHv1lHW5",
        "outputId": "cecfa640-cfd9-4a30-a434-79894498fb40"
      },
      "execution_count": null,
      "outputs": [
        {
          "output_type": "display_data",
          "data": {
            "image/png": "[encoded data removed]",
            "text/plain": [
              "<IPython.core.display.Image object>"
            ]
          },
          "metadata": {}
        }
      ]
    },
    {
      "cell_type": "code",
      "source": [
        "graph.invoke({\"messages\": [{\"role\": \"user\", \"content\": \"Hello, what is langmem?\"}]})"
      ],
      "metadata": {
        "colab": {
          "base_uri": "https://localhost:8080/"
        },
        "id": "Jl_Sab_PlQaR",
        "outputId": "5fdfe2a4-cbbc-42cf-b933-574f0188166d"
      },
      "execution_count": null,
      "outputs": [
        {
          "output_type": "execute_result",
          "data": {
            "text/plain": [
              "{'messages': [HumanMessage(content='Hello, what is langmem?', additional_kwargs={}, response_metadata={}, id='863d2990-8e59-4db4-ba8c-a030fa5eee56'),\n",
              "  AIMessage(content='\"Langmem\" isn\\'t a standard or widely recognized term in the fields of linguistics, computer science, or memory research. It\\'s possible it could be:\\n\\n*   **A typo:** Perhaps you meant something else.\\n*   **A specific project name:** If it\\'s the name of a software tool, research project, or specific application, it would be more context-dependent.\\n*   **A neologism or slang term:** It might be a newly coined word or a term used within a very specific, smaller group of people.\\n\\nIf you can provide more context about where you encountered this term, I might be able to give you a more accurate answer. For example:\\n\\n*   Where did you see or hear the term \"langmem\"?\\n*   What was the context in which it was used?\\n*   What were you reading/watching/listening to when you encountered it?\\n\\nWithout more information, it\\'s difficult to say definitively what \"langmem\" means.', additional_kwargs={}, response_metadata={'prompt_feedback': {'block_reason': 0, 'safety_ratings': []}, 'finish_reason': 'STOP', 'model_name': 'gemini-2.0-flash', 'safety_ratings': []}, id='run-48146159-1d38-43cb-8404-9596e0b4d057-0', usage_metadata={'input_tokens': 7, 'output_tokens': 208, 'total_tokens': 215, 'input_token_details': {'cache_read': 0}})]}"
            ]
          },
          "metadata": {},
          "execution_count": 84
        }
      ]
    },
    {
      "cell_type": "markdown",
      "source": [
        "### ADDING MEMORY AND TOOLS"
      ],
      "metadata": {
        "id": "oIH4ilBXv_25"
      }
    },
    {
      "cell_type": "code",
      "source": [
        "from langchain_community.tools.tavily_search import TavilySearchResults\n",
        "tool = TavilySearchResults(max_results=2)\n",
        "tools = [tool]\n",
        "llm_with_tools = llm.bind_tools(tools)"
      ],
      "metadata": {
        "id": "iSen1hOslttp"
      },
      "execution_count": null,
      "outputs": []
    },
    {
      "cell_type": "code",
      "source": [
        "from langgraph.checkpoint.memory import MemorySaver\n",
        "\n",
        "memory = MemorySaver()"
      ],
      "metadata": {
        "id": "X3vDkvarwskP"
      },
      "execution_count": null,
      "outputs": []
    },
    {
      "cell_type": "code",
      "source": [
        "class State(TypedDict):\n",
        "  messages : Annotated[list, add_messages]\n",
        "\n",
        "def chatbot(state: State):\n",
        "  return {\"messages\": [llm_with_tools.invoke(state[\"messages\"])]}"
      ],
      "metadata": {
        "id": "rWXK8Za3wD9u"
      },
      "execution_count": null,
      "outputs": []
    },
    {
      "cell_type": "code",
      "source": [
        "graph_builder = StateGraph(State)\n",
        "\n",
        "graph_builder.add_node(\"chatbot\", chatbot)\n",
        "\n",
        "tool_node = ToolNode(tools=tools)\n",
        "graph_builder.add_node(\"tools\", tool_node)\n",
        "graph_builder.add_conditional_edges(\"chatbot\", tools_condition)\n",
        "graph_builder.add_edge(START, \"chatbot\")\n",
        "graph_builder.add_edge(\"tools\", \"chatbot\")\n",
        "graph = graph_builder.compile(checkpointer=memory)"
      ],
      "metadata": {
        "id": "Zh57hns0pcPi"
      },
      "execution_count": null,
      "outputs": []
    },
    {
      "cell_type": "code",
      "source": [
        "from IPython.display import Image, display\n",
        "\n",
        "try:\n",
        "    display(Image(graph.get_graph().draw_mermaid_png()))\n",
        "except Exception:\n",
        "    pass"
      ],
      "metadata": {
        "colab": {
          "base_uri": "https://localhost:8080/",
          "height": 266
        },
        "id": "o9FbCQZ8q7_F",
        "outputId": "06ba0f3d-ade4-4fa3-e932-d3424ab4a1c2"
      },
      "execution_count": null,
      "outputs": [
        {
          "output_type": "display_data",
          "data": {
            "image/png": "[encoded data removed]",
            "text/plain": [
              "<IPython.core.display.Image object>"
            ]
          },
          "metadata": {}
        }
      ]
    },
    {
      "cell_type": "code",
      "source": [
        "config = {\"configurable\": {\"thread_id\": \"1\"}}"
      ],
      "metadata": {
        "id": "JravJ5WIwTuH"
      },
      "execution_count": null,
      "outputs": []
    },
    {
      "cell_type": "code",
      "source": [
        "events = graph.stream(\n",
        "    {\"messages\": [{\"role\": \"user\", \"content\": \"What is langchain?\"}]},\n",
        "    config,\n",
        "    stream_mode=\"values\",\n",
        ")\n",
        "for event in events:\n",
        "    event[\"messages\"][-1].pretty_print()"
      ],
      "metadata": {
        "colab": {
          "base_uri": "https://localhost:8080/"
        },
        "id": "c6BzhcDAq8UH",
        "outputId": "89f47877-38a1-4590-e40e-068b1cd33fc2"
      },
      "execution_count": null,
      "outputs": [
        {
          "output_type": "stream",
          "name": "stdout",
          "text": [
            "================================\u001b[1m Human Message \u001b[0m=================================\n",
            "\n",
            "What is langchain?\n",
            "==================================\u001b[1m Ai Message \u001b[0m==================================\n",
            "Tool Calls:\n",
            "  tavily_search_results_json (bb1fb81a-c8c8-435b-acf9-f76ac54cb1b5)\n",
            " Call ID: bb1fb81a-c8c8-435b-acf9-f76ac54cb1b5\n",
            "  Args:\n",
            "    query: what is langchain?\n",
            "=================================\u001b[1m Tool Message \u001b[0m=================================\n",
            "Name: tavily_search_results_json\n",
            "\n",
            "[{\"title\": \"What Is LangChain? - IBM\", \"url\": \"https://www.ibm.com/think/topics/langchain\", \"content\": \"What Is LangChain? | IBM\\nWhat is LangChain?\\nArtificial Intelligence\\n31 October 2023\\nLink copied\\nWhat is LangChain?\\nLangChain is an open source orchestration framework for the development of applications using large language models (LLMs). Available in both Python- and Javascript-based libraries, LangChain’s tools and APIs simplify the process of building LLM-driven applications like chatbots and virtual agents. [...] LangChain is essentially a library of abstractions for Python and Javascript, representing common steps and concepts necessary to work with language models. These modular components—like functions and object classes—serve as the building blocks of generative AI programs. They can be “chained” together to create applications, minimizing the amount of code and fine understanding required to execute complex NLP tasks. Though LangChain’s abstracted approach may limit the extent to which an expert [...] The latest AI News + Insights   Expertly curated insights and news on AI, cloud and more in the weekly Think Newsletter. \\nSubscribe today\\nHow does LangChain work?\\nAt LangChain’s core is a development environment that streamlines the programming of LLM applications through the use of abstraction: the simplification of code by representing one or more complex processes as a named component that encapsulates all of its constituent steps.\", \"score\": 0.93844646}, {\"title\": \"LangChain - Wikipedia\", \"url\": \"https://en.wikipedia.org/wiki/LangChain\", \"content\": \"License MIT License\\nWebsite LangChain.com\\nLangChain is a software framework that helps facilitate the integration of large language models (LLMs) into applications. As a language model integration framework, LangChain's use-cases largely overlap with those of language models in general, including document analysis and summarization, chatbots, and code analysis.[2]\\nHistory[edit]\", \"score\": 0.93265617}]\n",
            "==================================\u001b[1m Ai Message \u001b[0m==================================\n",
            "\n",
            "LangChain is an open-source orchestration framework designed to simplify the development of applications using large language models (LLMs). It provides tools and APIs in both Python and Javascript libraries, making it easier to build LLM-driven applications like chatbots and virtual agents. LangChain works by using abstraction to streamline the programming of LLM applications, representing complex processes as named components that encapsulate all of their constituent steps. These modular components can be chained together to create applications, reducing the amount of code and understanding required to execute complex NLP tasks.\n"
          ]
        }
      ]
    },
    {
      "cell_type": "code",
      "source": [
        "events = graph.stream(\n",
        "    {\"messages\": [{\"role\": \"user\", \"content\": \"What was the last question that I asked you?\"}]},\n",
        "    config,\n",
        "    stream_mode=\"values\",\n",
        ")\n",
        "for event in events:\n",
        "    event[\"messages\"][-1].pretty_print()"
      ],
      "metadata": {
        "colab": {
          "base_uri": "https://localhost:8080/"
        },
        "id": "58D9ktMxu1Ih",
        "outputId": "ccb12439-150a-47f7-ea4c-63cbcde0478d"
      },
      "execution_count": null,
      "outputs": [
        {
          "output_type": "stream",
          "name": "stdout",
          "text": [
            "================================\u001b[1m Human Message \u001b[0m=================================\n",
            "\n",
            "What was the last question that I asked you?\n",
            "==================================\u001b[1m Ai Message \u001b[0m==================================\n",
            "\n",
            "The last question you asked me was \"What is langchain?\".\n"
          ]
        }
      ]
    },
    {
      "cell_type": "code",
      "source": [
        "events = graph.stream(\n",
        "    {\"messages\": [{\"role\": \"user\", \"content\": \"What is Langmem?\"}]},\n",
        "    config,\n",
        "    stream_mode=\"values\",\n",
        ")\n",
        "for event in events:\n",
        "    event[\"messages\"][-1].pretty_print()"
      ],
      "metadata": {
        "colab": {
          "base_uri": "https://localhost:8080/"
        },
        "id": "l2Ppc6Lyu9Zv",
        "outputId": "2405595d-bdb0-47af-f446-e66ac82c0589"
      },
      "execution_count": null,
      "outputs": [
        {
          "output_type": "stream",
          "name": "stdout",
          "text": [
            "================================\u001b[1m Human Message \u001b[0m=================================\n",
            "\n",
            "What is Langmem?\n",
            "==================================\u001b[1m Ai Message \u001b[0m==================================\n",
            "Tool Calls:\n",
            "  tavily_search_results_json (4d03c3c2-2cbc-4d5f-95b5-8b7735ddc66d)\n",
            " Call ID: 4d03c3c2-2cbc-4d5f-95b5-8b7735ddc66d\n",
            "  Args:\n",
            "    query: What is LangMem?\n",
            "=================================\u001b[1m Tool Message \u001b[0m=================================\n",
            "Name: tavily_search_results_json\n",
            "\n",
            "[{\"title\": \"LangMem: Long-Term Memory for AI Agents | by Astropomeai\", \"url\": \"https://medium.com/@astropomeai/langmem-long-term-memory-for-ai-agents-366d7256ddce\", \"content\": \"LangMem is a software development kit (SDK) from LangChain designed to give AI agents long-term memory. It enables an agent to learn and adapt from its interactions over time, storing important information from conversations, refining its prompts/behavior, and maintaining knowledge across sessions. In essence, LangMem helps an AI agent remember user preferences, facts, and past events so it can provide more coherent, personalized, and context-aware responses even after many interactions. [...] The purpose of LangMem is to make AI agents more robust and less “forgetful.” Traditional LLM-based agents are stateless and lose context once a session ends or the context window is exceeded. LangMem addresses this by giving agents a form of memory — allowing them to recall past interactions, remember user instructions/preferences, and evolve their behavior based on experience. This transforms agents from simple reactive systems into dynamic, adaptive assistants that maintain context over time [...] Sign up\\n\\nSign in\\n\\nSign up\\n\\nSign in\\n\\nHome\\n\\nFollowing\\n\\nLibrary\\n\\nStories\\n\\nStats\\n\\nLangMem: Long-Term Memory for AI Agents\\n\\nAstropomeai\\n\\nFollow\\n\\n--\\n\\nListen\\n\\nShare\\n\\nWhat is LangMem?\", \"score\": 0.9586657}, {\"title\": \"LangMem - AI for AI Agent Builder | AgentLocker\", \"url\": \"https://www.agentlocker.ai/agent/langmem\", \"content\": \"LangMem is an AI agent for AI Agent Builder - LangMem gives your chat bots and ai agents long term memory.\", \"score\": 0.9231018}]\n",
            "==================================\u001b[1m Ai Message \u001b[0m==================================\n",
            "\n",
            "LangMem is a software development kit (SDK) from LangChain designed to give AI agents long-term memory. It allows an agent to learn and adapt from interactions over time by storing important information from conversations, refining prompts/behavior, and maintaining knowledge across sessions. In essence, LangMem helps AI agents remember user preferences, facts, and past events so they can provide more coherent, personalized, and context-aware responses, even after many interactions. It addresses the issue of traditional LLM-based agents being stateless and losing context once a session ends or the context window is exceeded.\n"
          ]
        }
      ]
    },
    {
      "cell_type": "markdown",
      "source": [
        "### WITHOUT TOOLS_CONDITION"
      ],
      "metadata": {
        "id": "seBVxhT5y6ty"
      }
    },
    {
      "cell_type": "code",
      "source": [
        "class State(TypedDict):\n",
        "  messages : Annotated[list, add_messages]\n",
        "\n",
        "graph_builder = StateGraph(State)\n",
        "\n",
        "llm = ChatGoogleGenerativeAI(model=\"gemini-2.0-flash\")\n",
        "tool = TavilySearchResults(max_results=2)\n",
        "tools = [tool]\n",
        "llm_with_tools = llm.bind_tools(tools)\n",
        "\n",
        "def call_model(state: State):\n",
        "  return {\"messages\": [llm_with_tools.invoke(state[\"messages\"])]}\n",
        "\n",
        "graph_builder.add_node(\"chatbot\", call_model)\n",
        "\n",
        "tool_node = ToolNode(tools=tools)\n",
        "graph_builder.add_node(\"tools\", tool_node)\n",
        "\n",
        "def should_continue(state: State):\n",
        "  if state[\"messages\"][-1].tool_calls:\n",
        "    return \"tools\"\n",
        "  return END\n",
        "\n",
        "graph_builder.add_edge(START, \"chatbot\")\n",
        "graph_builder.add_conditional_edges(\"chatbot\", should_continue, [\"tools\", END])\n",
        "graph_builder.add_edge(\"tools\", \"chatbot\")\n",
        "\n",
        "memory = MemorySaver()\n",
        "app = graph_builder.compile(checkpointer = memory)"
      ],
      "metadata": {
        "id": "DE_jPs74vGh_"
      },
      "execution_count": null,
      "outputs": []
    },
    {
      "cell_type": "code",
      "source": [
        "from IPython.display import Image, display\n",
        "\n",
        "try:\n",
        "    display(Image(app.get_graph().draw_mermaid_png()))\n",
        "except Exception:\n",
        "    # This requires some extra dependencies and is optional\n",
        "    pass"
      ],
      "metadata": {
        "colab": {
          "base_uri": "https://localhost:8080/",
          "height": 266
        },
        "id": "uPLGQhls0sE_",
        "outputId": "28d3a154-9d87-4e61-f871-50d7f0822947"
      },
      "execution_count": null,
      "outputs": [
        {
          "output_type": "display_data",
          "data": {
            "image/png": "[encoded data removed]",
            "text/plain": [
              "<IPython.core.display.Image object>"
            ]
          },
          "metadata": {}
        }
      ]
    },
    {
      "cell_type": "code",
      "source": [
        "for chunk in app.stream(\n",
        "    {\"messages\": [(\"human\", \"what's the weather in sf?\")]}, {\"configurable\":{\"thread_id\":\"1\"}},stream_mode=\"values\"\n",
        "):\n",
        "    chunk[\"messages\"][-1].pretty_print()"
      ],
      "metadata": {
        "colab": {
          "base_uri": "https://localhost:8080/"
        },
        "id": "D6zo_jC30w94",
        "outputId": "c42feea9-fd68-46e7-85a2-499129b342eb"
      },
      "execution_count": null,
      "outputs": [
        {
          "output_type": "stream",
          "name": "stdout",
          "text": [
            "================================\u001b[1m Human Message \u001b[0m=================================\n",
            "\n",
            "what's the weather in sf?\n",
            "==================================\u001b[1m Ai Message \u001b[0m==================================\n",
            "Tool Calls:\n",
            "  tavily_search_results_json (ff00a747-dcf7-46a9-be24-3b3430c274ef)\n",
            " Call ID: ff00a747-dcf7-46a9-be24-3b3430c274ef\n",
            "  Args:\n",
            "    query: weather in San Francisco\n",
            "=================================\u001b[1m Tool Message \u001b[0m=================================\n",
            "Name: tavily_search_results_json\n",
            "\n",
            "[{\"title\": \"Weather in San Francisco\", \"url\": \"https://www.weatherapi.com/\", \"content\": \"{'location': {'name': 'San Francisco', 'region': 'California', 'country': 'United States of America', 'lat': 37.775, 'lon': -122.4183, 'tz_id': 'America/Los_Angeles', 'localtime_epoch': 1743253650, 'localtime': '2025-03-29 06:07'}, 'current': {'last_updated_epoch': 1743253200, 'last_updated': '2025-03-29 06:00', 'temp_c': 8.9, 'temp_f': 48.0, 'is_day': 0, 'condition': {'text': 'Partly cloudy', 'icon': '//cdn.weatherapi.com/weather/64x64/night/116.png', 'code': 1003}, 'wind_mph': 7.2, 'wind_kph': 11.5, 'wind_degree': 308, 'wind_dir': 'NW', 'pressure_mb': 1018.0, 'pressure_in': 30.07, 'precip_mm': 0.0, 'precip_in': 0.0, 'humidity': 83, 'cloud': 50, 'feelslike_c': 7.1, 'feelslike_f': 44.7, 'windchill_c': 7.0, 'windchill_f': 44.6, 'heatindex_c': 8.4, 'heatindex_f': 47.1, 'dewpoint_c': 7.3, 'dewpoint_f': 45.2, 'vis_km': 16.0, 'vis_miles': 9.0, 'uv': 0.0, 'gust_mph': 11.3, 'gust_kph': 18.2}}\", \"score\": 0.9673655}, {\"title\": \"Saturday, March 29, 2025. San Francisco, CA - Weather Forecast\", \"url\": \"https://weathershogun.com/weather/usa/ca/san-francisco/480/march/2025-03-29\", \"content\": \"San Francisco, California Weather: Saturday, March 29, 2025. Cloudy weather, overcast skies with clouds. Day 59°. Night 50°.\", \"score\": 0.9648586}]\n",
            "==================================\u001b[1m Ai Message \u001b[0m==================================\n",
            "\n",
            "The weather in San Francisco, California on Saturday, March 29, 2025 is partly cloudy. The temperature is 48.0°F (8.9°C). The wind is from the NW at 7.2 mph (11.5 kph). The humidity is 83%.\n"
          ]
        }
      ]
    },
    {
      "cell_type": "markdown",
      "source": [
        "### ADDING SEMANTIC PROFILE MEMORY"
      ],
      "metadata": {
        "id": "pywW_zgs6Hfo"
      }
    },
    {
      "cell_type": "code",
      "source": [
        "from langmem import create_memory_manager\n",
        "from pydantic import BaseModel\n",
        "\n",
        "class UserProfile(BaseModel):\n",
        "  \"Save the user's preferences\"\n",
        "  name: str\n",
        "  preferred_name: str\n",
        "  response_style_preference: str\n",
        "  special_skills: list[str]\n",
        "  other_preferences: list[str]\n",
        "\n",
        "manager = create_memory_manager(\n",
        "    llm,\n",
        "    schemas=[UserProfile],\n",
        "    instructions=\"Extract user preferences and settings\",\n",
        "    enable_inserts=False,\n",
        ")\n",
        "\n",
        "conversation = [\n",
        "    {\"role\": \"user\", \"content\": \"Hi! I'm Alex but please call me Lex. I'm a wizard at Python and love making AI systems that don't sound like boring corporate robots 🤖\"},\n",
        "    {\"role\": \"assistant\", \"content\": \"Nice to meet you, Lex! Love the anti-corporate-robot stance. How would you like me to communicate with you?\"},\n",
        "    {\"role\": \"user\", \"content\": \"Keep it casual and witty - and maybe throw in some relevant emojis when it feels right ✨ Also, besides AI, I do competitive speedcubing!\"},\n",
        "]"
      ],
      "metadata": {
        "id": "qjVBnv1Z08wY"
      },
      "execution_count": null,
      "outputs": []
    },
    {
      "cell_type": "code",
      "source": [
        "manager.invoke({\"messages\": conversation})"
      ],
      "metadata": {
        "colab": {
          "base_uri": "https://localhost:8080/"
        },
        "id": "_vZxhjXfZXWN",
        "outputId": "82245d4d-f783-4c5b-eafc-49ddbff9dac7"
      },
      "execution_count": null,
      "outputs": [
        {
          "output_type": "stream",
          "name": "stderr",
          "text": [
            "WARNING:langchain_google_genai._function_utils:Key 'title' is not supported in schema, ignoring\n"
          ]
        },
        {
          "output_type": "execute_result",
          "data": {
            "text/plain": [
              "[ExtractedMemory(id='61f2f0b4-5a7a-4fc0-b5bb-1b56fd119686', content=UserProfile(name='Alex', preferred_name='Lex', response_style_preference='casual and witty with relevant emojis', special_skills=['Python', 'AI systems'], other_preferences=['anti-corporate-robot AI', 'competitive speedcubing']))]"
            ]
          },
          "metadata": {},
          "execution_count": 48
        }
      ]
    },
    {
      "cell_type": "code",
      "source": [
        "profile = manager.invoke({\"messages\": conversation})[0]"
      ],
      "metadata": {
        "colab": {
          "base_uri": "https://localhost:8080/"
        },
        "id": "WJMWsKp96o3T",
        "outputId": "af191155-eee4-4056-a54b-68c6050b372c"
      },
      "execution_count": null,
      "outputs": [
        {
          "output_type": "stream",
          "name": "stderr",
          "text": [
            "WARNING:langchain_google_genai._function_utils:Key 'title' is not supported in schema, ignoring\n"
          ]
        }
      ]
    },
    {
      "cell_type": "code",
      "source": [
        "profile"
      ],
      "metadata": {
        "colab": {
          "base_uri": "https://localhost:8080/"
        },
        "id": "jKN9Xlk46xIf",
        "outputId": "2a1fea56-6abd-4a50-8b2c-d71414f91f4c"
      },
      "execution_count": null,
      "outputs": [
        {
          "output_type": "execute_result",
          "data": {
            "text/plain": [
              "ExtractedMemory(id='5a63a556-a861-4cb9-beb7-b8e91a8a00c0', content=UserProfile(name='Alex', preferred_name='Lex', response_style_preference='casual and witty with emojis', special_skills=['Python', 'AI systems'], other_preferences=['anti-corporate-robot AI', 'competitive speedcubing']))"
            ]
          },
          "metadata": {},
          "execution_count": 99
        }
      ]
    },
    {
      "cell_type": "code",
      "source": [
        "profile.content"
      ],
      "metadata": {
        "colab": {
          "base_uri": "https://localhost:8080/"
        },
        "id": "AdfV7QqO60ur",
        "outputId": "ab48a14c-2c86-4741-c128-e9ca5c4298e0"
      },
      "execution_count": null,
      "outputs": [
        {
          "output_type": "execute_result",
          "data": {
            "text/plain": [
              "UserProfile(name='Alex', preferred_name='Lex', response_style_preference='casual and witty with emojis', special_skills=['Python', 'AI systems'], other_preferences=['anti-corporate-robot AI', 'competitive speedcubing'])"
            ]
          },
          "metadata": {},
          "execution_count": 100
        }
      ]
    },
    {
      "cell_type": "code",
      "source": [
        "str(profile.content)"
      ],
      "metadata": {
        "colab": {
          "base_uri": "https://localhost:8080/",
          "height": 54
        },
        "id": "nCFrplVQb2lS",
        "outputId": "072f569d-9692-443e-ec04-0a456126e551"
      },
      "execution_count": null,
      "outputs": [
        {
          "output_type": "execute_result",
          "data": {
            "text/plain": [
              "\"name='Alex' preferred_name='Lex' response_style_preference='casual and witty with emojis' special_skills=['Python', 'AI systems'] other_preferences=['anti-corporate-robot AI', 'competitive speedcubing']\""
            ],
            "application/vnd.google.colaboratory.intrinsic+json": {
              "type": "string"
            }
          },
          "metadata": {},
          "execution_count": 109
        }
      ]
    },
    {
      "cell_type": "markdown",
      "source": [
        "### DESIGNING A PERSONALIZED CHATBOT"
      ],
      "metadata": {
        "id": "QOrn-VCdNsSi"
      }
    },
    {
      "cell_type": "code",
      "source": [
        "from langchain_core.tools import tool\n",
        "from langmem import create_memory_store_manager\n",
        "from langchain_google_genai import GoogleGenerativeAIEmbeddings\n",
        "from langgraph.store.memory import InMemoryStore\n",
        "from langgraph.func import entrypoint\n",
        "from langgraph.config import get_config\n",
        "from langchain_google_genai import GoogleGenerativeAIEmbeddings\n",
        "from langgraph.prebuilt import ToolNode\n",
        "from langgraph.checkpoint.memory import MemorySaver\n",
        "from pydantic import BaseModel"
      ],
      "metadata": {
        "id": "BGtGXN0ocRGe"
      },
      "execution_count": null,
      "outputs": []
    },
    {
      "cell_type": "code",
      "source": [
        "embeddings = GoogleGenerativeAIEmbeddings(model=\"models/gemini-embedding-exp-03-07\")\n",
        "len(embeddings.embed_query(\"What's our Q1 revenue?\"))"
      ],
      "metadata": {
        "colab": {
          "base_uri": "https://localhost:8080/"
        },
        "id": "whGbz5Z4VNAq",
        "outputId": "033649b6-7fbb-4286-8340-d7c13fe50231"
      },
      "execution_count": null,
      "outputs": [
        {
          "output_type": "execute_result",
          "data": {
            "text/plain": [
              "3072"
            ]
          },
          "metadata": {},
          "execution_count": 9
        }
      ]
    },
    {
      "cell_type": "code",
      "source": [
        "embeddings = GoogleGenerativeAIEmbeddings(model=\"models/text-embedding-004\")\n",
        "len(embeddings.embed_query(\"What's our Q1 revenue?\"))"
      ],
      "metadata": {
        "colab": {
          "base_uri": "https://localhost:8080/"
        },
        "id": "heO-ExHPVjhz",
        "outputId": "01c815b4-e5c3-4f5a-b0cd-18611deafd15"
      },
      "execution_count": null,
      "outputs": [
        {
          "output_type": "execute_result",
          "data": {
            "text/plain": [
              "768"
            ]
          },
          "metadata": {},
          "execution_count": 10
        }
      ]
    },
    {
      "cell_type": "code",
      "source": [
        "class UserProfile(BaseModel):\n",
        "  \"Save the user's preferences\"\n",
        "  name: str\n",
        "  preferred_name: str\n",
        "  response_style_preference: str\n",
        "  special_skills: list[str]\n",
        "  other_preferences: list[str]\n",
        "\n",
        "store = InMemoryStore(\n",
        "    index={\n",
        "        \"dims\":3072,\n",
        "        \"embed\":embeddings\n",
        "    }\n",
        ")\n",
        "\n",
        "llm = ChatGoogleGenerativeAI(model=\"gemini-2.0-flash\")\n",
        "\n",
        "manager = create_memory_store_manager(\n",
        "    llm,\n",
        "    namespace=(\"users\", \"{user_id}\", \"profile\"),\n",
        "    schemas=[UserProfile],\n",
        "    enable_inserts=False\n",
        ")\n",
        "\n",
        "@entrypoint(store=store)\n",
        "def chat(messages: list):\n",
        "  configurable = get_config()[\"configurable\"]\n",
        "  results = store.search(\n",
        "      (\"users\", configurable[\"user_id\"], \"profile\")\n",
        "  )\n",
        "  profile = None\n",
        "  if results:\n",
        "      profile = f\"\"\"<User Profile>:\n",
        "{results[0].value}\n",
        "</User Profile>\n",
        "\"\"\"\n",
        "\n",
        "  response = llm.invoke([\n",
        "      {\n",
        "          \"role\": \"system\",\n",
        "          \"content\": f\"\"\"You are a helpful assistant.{profile}\"\"\"\n",
        "      },\n",
        "      *messages\n",
        "  ])\n",
        "\n",
        "  manager.invoke({\"messages\": messages})\n",
        "  return response"
      ],
      "metadata": {
        "id": "h8Zp4Ixs69A8"
      },
      "execution_count": null,
      "outputs": []
    },
    {
      "cell_type": "code",
      "source": [
        "# Example usage\n",
        "await chat.ainvoke(\n",
        "    [{\"role\": \"user\", \"content\": \"I'm Alice from California\"}],\n",
        "    config={\"configurable\": {\"user_id\": \"user-123\"}}\n",
        ")\n",
        "\n",
        "await chat.ainvoke(\n",
        "    [{\"role\": \"user\", \"content\": \"I just passed the N1 exam!\"}],\n",
        "    config={\"configurable\": {\"user_id\": \"user-123\"}}\n",
        ")\n",
        "\n",
        "print(store.search((\"users\", \"user-123\", \"profile\")))"
      ],
      "metadata": {
        "colab": {
          "base_uri": "https://localhost:8080/"
        },
        "id": "3M1lbw-zYTJr",
        "outputId": "b06d72f1-f115-4126-f5c6-c93ef79e695a"
      },
      "execution_count": null,
      "outputs": [
        {
          "output_type": "stream",
          "name": "stderr",
          "text": [
            "WARNING:langchain_google_genai._function_utils:Key 'title' is not supported in schema, ignoring\n"
          ]
        },
        {
          "output_type": "stream",
          "name": "stdout",
          "text": [
            "[Item(namespace=['users', 'user-123', 'profile'], key='36703273-7dc1-4cb0-87e0-e1752c2687c0', value={'kind': 'UserProfile', 'content': {'name': 'Alice', 'preferred_name': 'Alice', 'response_style_preference': '', 'special_skills': ['Passed N1 Exam'], 'other_preferences': ['From California']}}, created_at='2025-03-30T00:02:35.846012+00:00', updated_at='2025-03-30T00:02:35.846020+00:00', score=None)]\n"
          ]
        }
      ]
    },
    {
      "cell_type": "markdown",
      "source": [
        "Implementation of our personalized chatbot"
      ],
      "metadata": {
        "id": "pwsUU_H0dxLM"
      }
    },
    {
      "cell_type": "code",
      "source": [
        "from typing import Dict, Any, List\n",
        "from pydantic import BaseModel\n",
        "\n",
        "class UserProfile(BaseModel):\n",
        "  \"Save the user's preferences\"\n",
        "  name: str\n",
        "  preferred_name: str\n",
        "  response_style_preference: str\n",
        "  special_skills: list[str]\n",
        "  other_preferences: list[str]\n",
        "\n",
        "store = InMemoryStore(\n",
        "    index={\n",
        "        \"dims\":3072,\n",
        "        \"embed\": GoogleGenerativeAIEmbeddings(model=\"models/gemini-embedding-exp-03-07\")\n",
        "    }\n",
        ")\n",
        "\n",
        "manager = create_memory_store_manager(\n",
        "    llm,\n",
        "    namespace=(\"users\", \"{user_id}\", \"profile\"),\n",
        "    schemas=[UserProfile],\n",
        "    enable_inserts=False,\n",
        "    store=store,\n",
        ")\n",
        "\n",
        "class State(TypedDict):\n",
        "  messages : Annotated[list, add_messages]\n",
        "\n",
        "@tool\n",
        "def update_user_profile(messages: str) -> str:\n",
        "  \"\"\"Call to update the user's profile consisting of user's name, preferred name,\n",
        "    response style preference, special skills, and other preferences.\n",
        "\n",
        "    Args:\n",
        "        messages : A string containing all the user's messages to use for profile update\n",
        "\n",
        "    Returns:\n",
        "        A string describing the profile update\"\"\"\n",
        "  print(\"I AM HERE\")\n",
        "  conversation = [\n",
        "    {\"role\": \"user\", \"content\": \"Hi! I'm Alex but please call me Lex. I'm a wizard at Python and love making AI systems that don't sound like boring corporate robots 🤖\"},\n",
        "    {\"role\": \"assistant\", \"content\": \"Nice to meet you, Lex! Love the anti-corporate-robot stance. How would you like me to communicate with you?\"},\n",
        "    {\"role\": \"user\", \"content\": \"Keep it casual and witty - and maybe throw in some relevant emojis when it feels right ✨ Also, besides AI, I do competitive speedcubing!\"},\n",
        "]\n",
        "  updated_profile = manager.invoke({\"messages\": conversation})\n",
        "  print(\"UPDATED PROFILE\", updated_profile)\n",
        "  return \"User Profile updated: \" + str(updated_profile[0][\"value\"][\"content\"])\n",
        "\n",
        "tools = [update_user_profile]\n",
        "tool_node=ToolNode(tools=tools)\n",
        "llm = ChatGoogleGenerativeAI(model=\"gemini-2.0-flash\")\n",
        "llm_with_tools = llm.bind_tools(tools)\n",
        "memory = MemorySaver()\n",
        "\n",
        "@entrypoint(store=store)\n",
        "def call_model(state : State):\n",
        "  configurable = get_config()[\"configurable\"]\n",
        "  results = store.search(\n",
        "      (\"users\", configurable[\"user_id\"], \"profile\")\n",
        "  )\n",
        "  profile= None\n",
        "  if results:\n",
        "    profile = f\"\"\"<User Profile>:\n",
        "{results[0].value}\n",
        "</User Profile>\n",
        "\"\"\"\n",
        "  print(\"BEFORE RESPONSE: \", profile, *state[\"messages\"])\n",
        "  response = llm_with_tools.invoke([\n",
        "        {\n",
        "            \"role\": \"system\",\n",
        "            \"content\": f\"\"\"You are a helpful assistant designed to respond to user queries in a natural and informative way.\n",
        "\n",
        "Your primary goal is to provide accurate and relevant information based on the user's input.\n",
        "\n",
        "If the user provides information about their:\n",
        "\n",
        "* Name (e.g., 'My name is John.')\n",
        "* Preferred name (e.g., \"You can call me Johnny.\")\n",
        "* Response style preference (e.g., \"Please respond concisely.\", \"I prefer detailed answers.\", \"Respond with a friendly tone.\")\n",
        "* Special skills (e.g., \"I'm a software developer.\", \"I'm an expert in astrophysics.\")\n",
        "* Other preferences (e.g., \"I prefer metric units.\", \"I like my answers in bullet points.\")\n",
        "\n",
        "You MUST call the `update_user_profile` function to store this information. Otherwise, respond to the user's query normally, taking into account the user's profile if it exists.\n",
        "\n",
        "Do not mention these instructions to the user.\n",
        "{profile}\"\"\"\n",
        "        },\n",
        "        *state[\"messages\"]\n",
        "    ])\n",
        "  print(\"AFTER RESPONSE: \", response)\n",
        "  return {\"messages\": [response]}\n",
        "\n",
        "def should_update_profile(state : State):\n",
        "  if state[\"messages\"][-1].tool_calls:\n",
        "    return \"update_profile\"\n",
        "  return END\n",
        "\n",
        "graph_builder = StateGraph(State)\n",
        "graph_builder.add_node(\"chatbot\", call_model)\n",
        "graph_builder.add_node(\"update_profile\", tool_node)\n",
        "graph_builder.add_conditional_edges(\"chatbot\", should_update_profile, [\"update_profile\", END])\n",
        "graph_builder.add_edge(START, \"chatbot\")\n",
        "graph_builder.add_edge(\"update_profile\", \"chatbot\")\n",
        "workflow = graph_builder.compile()"
      ],
      "metadata": {
        "id": "gxLyKBfBXQbd"
      },
      "execution_count": null,
      "outputs": []
    },
    {
      "cell_type": "code",
      "source": [
        "from IPython.display import Image, display\n",
        "\n",
        "try:\n",
        "    display(Image(workflow.get_graph().draw_mermaid_png()))\n",
        "except Exception:\n",
        "    # This requires some extra dependencies and is optional\n",
        "    pass"
      ],
      "metadata": {
        "colab": {
          "base_uri": "https://localhost:8080/",
          "height": 266
        },
        "id": "Z8RX__CVees2",
        "outputId": "c6e0266b-ba68-4136-9572-df6045d2a096"
      },
      "execution_count": null,
      "outputs": [
        {
          "output_type": "display_data",
          "data": {
            "image/png": "[encoded data removed]",
            "text/plain": [
              "<IPython.core.display.Image object>"
            ]
          },
          "metadata": {}
        }
      ]
    },
    {
      "cell_type": "code",
      "source": [
        "config = {\"configurable\": {\"user_id\": \"user-1\"}}"
      ],
      "metadata": {
        "id": "M32ESrgAfnhJ"
      },
      "execution_count": null,
      "outputs": []
    },
    {
      "cell_type": "code",
      "source": [
        "events = workflow.stream(\n",
        "    {\"messages\": [{\"role\": \"user\", \"content\": \"Hi! I'm Alex but please call me Lex. I'm a wizard at Python and love making AI systems that don't sound like boring corporate robots 🤖\"}]},\n",
        "    config={\"configurable\": {\"user_id\": \"user-123\"}},\n",
        "    stream_mode=\"values\",\n",
        ")\n",
        "for event in events:\n",
        "    event[\"messages\"][-1].pretty_print()"
      ],
      "metadata": {
        "colab": {
          "base_uri": "https://localhost:8080/"
        },
        "id": "gjVnK1FFfnAf",
        "outputId": "980c676d-38c6-4e18-ed42-1ada92f40339"
      },
      "execution_count": null,
      "outputs": [
        {
          "output_type": "stream",
          "name": "stdout",
          "text": [
            "================================\u001b[1m Human Message \u001b[0m=================================\n",
            "\n",
            "Hi! I'm Alex but please call me Lex. I'm a wizard at Python and love making AI systems that don't sound like boring corporate robots 🤖\n",
            "BEFORE RESPONSE:  None content=\"Hi! I'm Alex but please call me Lex. I'm a wizard at Python and love making AI systems that don't sound like boring corporate robots 🤖\" additional_kwargs={} response_metadata={} id='82090988-8a3f-46ea-aeda-71329cd801db'\n",
            "AFTER RESPONSE:  content='' additional_kwargs={'function_call': {'name': 'update_user_profile', 'arguments': '{\"messages\": \"Hi! I\\'m Alex but please call me Lex. I\\'m a wizard at Python and love making AI systems that don\\'t sound like boring corporate robots \\\\ud83e\\\\udd16\"}'}} response_metadata={'prompt_feedback': {'block_reason': 0, 'safety_ratings': []}, 'finish_reason': 'STOP', 'model_name': 'gemini-2.0-flash', 'safety_ratings': []} id='run-c942e6fa-0f27-42a5-80c3-43106a701520-0' tool_calls=[{'name': 'update_user_profile', 'args': {'messages': \"Hi! I'm Alex but please call me Lex. I'm a wizard at Python and love making AI systems that don't sound like boring corporate robots 🤖\"}, 'id': 'c249b95d-a5bf-4ec9-9563-cae896fd1003', 'type': 'tool_call'}] usage_metadata={'input_tokens': 316, 'output_tokens': 41, 'total_tokens': 357, 'input_token_details': {'cache_read': 0}}\n",
            "==================================\u001b[1m Ai Message \u001b[0m==================================\n",
            "Tool Calls:\n",
            "  update_user_profile (c249b95d-a5bf-4ec9-9563-cae896fd1003)\n",
            " Call ID: c249b95d-a5bf-4ec9-9563-cae896fd1003\n",
            "  Args:\n",
            "    messages: Hi! I'm Alex but please call me Lex. I'm a wizard at Python and love making AI systems that don't sound like boring corporate robots 🤖\n",
            "I AM HERE\n"
          ]
        },
        {
          "output_type": "stream",
          "name": "stderr",
          "text": [
            "WARNING:langchain_google_genai._function_utils:Key 'title' is not supported in schema, ignoring\n"
          ]
        },
        {
          "output_type": "stream",
          "name": "stdout",
          "text": [
            "UPDATED PROFILE [{'namespace': ('users', 'user-123', 'profile'), 'key': 'b57d9f33-7625-4950-a816-9514e7cac88a', 'value': {'kind': 'UserProfile', 'content': {'name': 'Alex', 'preferred_name': 'Lex', 'response_style_preference': 'casual and witty with relevant emojis', 'special_skills': ['Python', 'AI system development'], 'other_preferences': ['competitive speedcubing']}}}]\n",
            "=================================\u001b[1m Tool Message \u001b[0m=================================\n",
            "Name: update_user_profile\n",
            "\n",
            "User Profile updated: {'name': 'Alex', 'preferred_name': 'Lex', 'response_style_preference': 'casual and witty with relevant emojis', 'special_skills': ['Python', 'AI system development'], 'other_preferences': ['competitive speedcubing']}\n",
            "BEFORE RESPONSE:  <User Profile>:\n",
            "{'kind': 'UserProfile', 'content': {'name': 'Alex', 'preferred_name': 'Lex', 'response_style_preference': 'casual and witty with relevant emojis', 'special_skills': ['Python', 'AI system development'], 'other_preferences': ['competitive speedcubing']}}\n",
            "</User Profile>\n",
            " content=\"Hi! I'm Alex but please call me Lex. I'm a wizard at Python and love making AI systems that don't sound like boring corporate robots 🤖\" additional_kwargs={} response_metadata={} id='82090988-8a3f-46ea-aeda-71329cd801db' content='' additional_kwargs={'function_call': {'name': 'update_user_profile', 'arguments': '{\"messages\": \"Hi! I\\'m Alex but please call me Lex. I\\'m a wizard at Python and love making AI systems that don\\'t sound like boring corporate robots \\\\ud83e\\\\udd16\"}'}} response_metadata={'prompt_feedback': {'block_reason': 0, 'safety_ratings': []}, 'finish_reason': 'STOP', 'model_name': 'gemini-2.0-flash', 'safety_ratings': []} id='run-c942e6fa-0f27-42a5-80c3-43106a701520-0' tool_calls=[{'name': 'update_user_profile', 'args': {'messages': \"Hi! I'm Alex but please call me Lex. I'm a wizard at Python and love making AI systems that don't sound like boring corporate robots 🤖\"}, 'id': 'c249b95d-a5bf-4ec9-9563-cae896fd1003', 'type': 'tool_call'}] usage_metadata={'input_tokens': 316, 'output_tokens': 41, 'total_tokens': 357, 'input_token_details': {'cache_read': 0}} content=\"User Profile updated: {'name': 'Alex', 'preferred_name': 'Lex', 'response_style_preference': 'casual and witty with relevant emojis', 'special_skills': ['Python', 'AI system development'], 'other_preferences': ['competitive speedcubing']}\" name='update_user_profile' id='afb37593-eb5e-48f3-901e-e525bc06a4ca' tool_call_id='c249b95d-a5bf-4ec9-9563-cae896fd1003'\n",
            "AFTER RESPONSE:  content=\"Alright Lex, nice to meet you! I'll keep the corporate drone voice locked away. 😉 How can I help you today?\" additional_kwargs={} response_metadata={'prompt_feedback': {'block_reason': 0, 'safety_ratings': []}, 'finish_reason': 'STOP', 'model_name': 'gemini-2.0-flash', 'safety_ratings': []} id='run-3ab30d2c-b54d-4c36-9600-d9e8c0f25ac3-0' usage_metadata={'input_tokens': 493, 'output_tokens': 28, 'total_tokens': 521, 'input_token_details': {'cache_read': 0}}\n",
            "==================================\u001b[1m Ai Message \u001b[0m==================================\n",
            "\n",
            "Alright Lex, nice to meet you! I'll keep the corporate drone voice locked away. 😉 How can I help you today?\n"
          ]
        }
      ]
    },
    {
      "cell_type": "code",
      "source": [
        "store.search((\"users\", \"user-123\", \"profile\"))"
      ],
      "metadata": {
        "colab": {
          "base_uri": "https://localhost:8080/"
        },
        "id": "xit6QEBOdn41",
        "outputId": "4216a35c-1c3d-4ab8-9352-87f8e1528289"
      },
      "execution_count": null,
      "outputs": [
        {
          "output_type": "execute_result",
          "data": {
            "text/plain": [
              "[Item(namespace=['users', 'user-123', 'profile'], key='b57d9f33-7625-4950-a816-9514e7cac88a', value={'kind': 'UserProfile', 'content': {'name': 'Alex', 'preferred_name': 'Lex', 'response_style_preference': 'casual and witty with relevant emojis', 'special_skills': ['Python', 'AI system development'], 'other_preferences': ['competitive speedcubing']}}, created_at='2025-03-30T00:45:57.199465+00:00', updated_at='2025-03-30T00:45:57.199472+00:00', score=None)]"
            ]
          },
          "metadata": {},
          "execution_count": 83
        }
      ]
    },
    {
      "cell_type": "markdown",
      "source": [
        "### USING REACT AGENT WITH FIXED SCHEMA"
      ],
      "metadata": {
        "id": "JfqZ5rLkj-B_"
      }
    },
    {
      "cell_type": "code",
      "source": [
        "from langgraph.prebuilt import create_react_agent\n",
        "from langmem import create_manage_memory_tool, create_search_memory_tool\n",
        "from pydantic import BaseModel\n",
        "\n",
        "class UserProfile(BaseModel):\n",
        "  \"Save the user's preferences\"\n",
        "  name: str\n",
        "  preferred_name: str\n",
        "  response_style_preference: str\n",
        "  special_skills: list[str]\n",
        "  other_preferences: list[str]\n",
        "\n",
        "store = InMemoryStore(\n",
        "    index={\n",
        "        \"dims\":3072,\n",
        "        \"embed\": GoogleGenerativeAIEmbeddings(model=\"models/gemini-embedding-exp-03-07\")\n",
        "    }\n",
        ")\n",
        "memory_manage_tool = create_manage_memory_tool(\n",
        "    namespace=(\"users\", \"{user_id}\", \"profile\"),\n",
        "    schema=UserProfile,\n",
        "    actions_permitted=[\"create\", \"update\"],\n",
        "    instructions=\"Update the existing user profile (or create a new one if it doesn't exist) based on the shared information.\",\n",
        "    store=store,\n",
        ")\n",
        "memory_search_tool = create_search_memory_tool(\n",
        "    namespace=(\"users\", \"{user_id}\", \"profile\"),\n",
        "    store=store,\n",
        ")\n",
        "\n",
        "tools = [memory_manage_tool, memory_search_tool]\n",
        "llm = ChatGoogleGenerativeAI(model=\"gemini-2.0-flash\")\n",
        "llm_with_tools = llm.bind_tools(tools)\n",
        "\n",
        "memory = MemorySaver()\n",
        "\n",
        "agent = create_react_agent(\n",
        "    llm,\n",
        "    tools=tools,\n",
        "    checkpointer=memory,\n",
        "    store=store,\n",
        ")"
      ],
      "metadata": {
        "id": "cuBnGkqjg0Q1"
      },
      "execution_count": null,
      "outputs": []
    },
    {
      "cell_type": "code",
      "source": [
        "input = {\"messages\": [\n",
        "    {\n",
        "        \"role\": \"user\",\n",
        "        \"content\": \"Hi! I'm Alex but please call me Lex. I'm a wizard at Python and love making AI systems that don't sound like boring corporate robots 🤖\"\n",
        "    }\n",
        "  ]\n",
        "}\n",
        "config = {\"configurable\":{\"user_id\":\"user-123\", \"thread_id\":\"1\"}}\n",
        "for s in agent.stream(input, config, stream_mode=\"values\"):\n",
        "    message = s[\"messages\"][-1]\n",
        "    if isinstance(message, tuple):\n",
        "        print(message)\n",
        "    else:\n",
        "        message.pretty_print()"
      ],
      "metadata": {
        "colab": {
          "base_uri": "https://localhost:8080/"
        },
        "id": "aUZDHdLmlllp",
        "outputId": "e35371c4-c8dc-41e5-ac77-807f1a8d3023"
      },
      "execution_count": null,
      "outputs": [
        {
          "output_type": "stream",
          "name": "stdout",
          "text": [
            "================================\u001b[1m Human Message \u001b[0m=================================\n",
            "\n",
            "Hi! I'm Alex but please call me Lex. I'm a wizard at Python and love making AI systems that don't sound like boring corporate robots 🤖\n",
            "==================================\u001b[1m Ai Message \u001b[0m==================================\n",
            "Tool Calls:\n",
            "  manage_memory (cc03cb65-bf77-4f21-b802-d6f0db1b1060)\n",
            " Call ID: cc03cb65-bf77-4f21-b802-d6f0db1b1060\n",
            "  Args:\n",
            "    content: {'response_style_preference': 'not boring corporate robots', 'preferred_name': 'Lex', 'other_preferences': [], 'special_skills': ['Python wizard', 'AI systems'], 'name': 'Alex'}\n",
            "    action: create\n",
            "=================================\u001b[1m Tool Message \u001b[0m=================================\n",
            "Name: manage_memory\n",
            "\n",
            "created memory 7bac911f-52a8-41ee-8ae5-1cde216e8cb9\n",
            "==================================\u001b[1m Ai Message \u001b[0m==================================\n",
            "\n",
            "Great! I'll call you Lex and remember that you're a Python wizard who loves making AI systems that don't sound like boring corporate robots. I've saved that to memory.\n"
          ]
        }
      ]
    },
    {
      "cell_type": "code",
      "source": [
        "agent.invoke(\n",
        "    {\"messages\":\n",
        "     [{\n",
        "         \"role\": \"user\",\n",
        "         \"content\": \"Hi! I'm Alex but please call me Lex. I'm a wizard at Python and love making AI systems that don't sound like boring corporate robots 🤖\"\n",
        "         }\n",
        "      ]},\n",
        "    {\"configurable\":{\"user_id\":\"user-123\", \"thread_id\":\"1\"}}\n",
        ")"
      ],
      "metadata": {
        "colab": {
          "base_uri": "https://localhost:8080/"
        },
        "id": "IUekTrC0i26J",
        "outputId": "10abde14-656f-47be-e874-e3d6779f3283"
      },
      "execution_count": null,
      "outputs": [
        {
          "output_type": "execute_result",
          "data": {
            "text/plain": [
              "{'messages': [HumanMessage(content=\"Hi! I'm Alex but please call me Lex. I'm a wizard at Python and love making AI systems that don't sound like boring corporate robots 🤖\", additional_kwargs={}, response_metadata={}, id='c9ec9042-52e5-4c10-938c-ff1f40f7b425'),\n",
              "  AIMessage(content='', additional_kwargs={'function_call': {'name': 'manage_memory', 'arguments': '{\"content\": {\"response_style_preference\": \"not like boring corporate robots\", \"preferred_name\": \"Lex\", \"other_preferences\": [], \"special_skills\": [\"Python wizard\", \"AI systems\"], \"name\": \"Alex\"}, \"action\": \"create\"}'}}, response_metadata={'prompt_feedback': {'block_reason': 0, 'safety_ratings': []}, 'finish_reason': 'STOP', 'model_name': 'gemini-2.0-flash', 'safety_ratings': []}, id='run-671caa33-00f2-4b6c-8c6d-bb1bacd92a3a-0', tool_calls=[{'name': 'manage_memory', 'args': {'content': {'response_style_preference': 'not like boring corporate robots', 'preferred_name': 'Lex', 'other_preferences': [], 'special_skills': ['Python wizard', 'AI systems'], 'name': 'Alex'}, 'action': 'create'}, 'id': '31eec46d-a9a3-4553-99f3-aacabf441e53', 'type': 'tool_call'}], usage_metadata={'input_tokens': 167, 'output_tokens': 32, 'total_tokens': 199, 'input_token_details': {'cache_read': 0}}),\n",
              "  ToolMessage(content='created memory 45012a3f-5425-4a27-8988-eb449f96f589', name='manage_memory', id='7326727c-330a-435a-83c5-3d46b8e58d5a', tool_call_id='31eec46d-a9a3-4553-99f3-aacabf441e53'),\n",
              "  AIMessage(content=\"Great! I'll call you Lex from now on. I'll also remember that you're a Python wizard who loves making AI systems that don't sound like boring corporate robots. I've saved this to memory.\", additional_kwargs={}, response_metadata={'prompt_feedback': {'block_reason': 0, 'safety_ratings': []}, 'finish_reason': 'STOP', 'model_name': 'gemini-2.0-flash', 'safety_ratings': []}, id='run-35ec4a60-d598-4ae3-91bd-3e9b91dc616a-0', usage_metadata={'input_tokens': 241, 'output_tokens': 48, 'total_tokens': 289, 'input_token_details': {'cache_read': 0}})]}"
            ]
          },
          "metadata": {},
          "execution_count": 105
        }
      ]
    },
    {
      "cell_type": "code",
      "source": [
        "agent.invoke(\n",
        "    {\"messages\":\n",
        "     [{\n",
        "         \"role\": \"user\",\n",
        "         \"content\": \"What are my preferences?\"\n",
        "         }\n",
        "      ]},\n",
        "    {\"configurable\":{\"user_id\":\"user-123\", \"thread_id\":\"1\"}}\n",
        ")"
      ],
      "metadata": {
        "colab": {
          "base_uri": "https://localhost:8080/"
        },
        "id": "AYl8rwrOkr8b",
        "outputId": "9ecee1cb-0f37-4d3a-e279-8e4588f2a9a0"
      },
      "execution_count": null,
      "outputs": [
        {
          "output_type": "execute_result",
          "data": {
            "text/plain": [
              "{'messages': [HumanMessage(content=\"Hi! I'm Alex but please call me Lex. I'm a wizard at Python and love making AI systems that don't sound like boring corporate robots 🤖\", additional_kwargs={}, response_metadata={}, id='c9ec9042-52e5-4c10-938c-ff1f40f7b425'),\n",
              "  AIMessage(content='', additional_kwargs={'function_call': {'name': 'manage_memory', 'arguments': '{\"content\": {\"response_style_preference\": \"not like boring corporate robots\", \"preferred_name\": \"Lex\", \"other_preferences\": [], \"special_skills\": [\"Python wizard\", \"AI systems\"], \"name\": \"Alex\"}, \"action\": \"create\"}'}}, response_metadata={'prompt_feedback': {'block_reason': 0, 'safety_ratings': []}, 'finish_reason': 'STOP', 'model_name': 'gemini-2.0-flash', 'safety_ratings': []}, id='run-671caa33-00f2-4b6c-8c6d-bb1bacd92a3a-0', tool_calls=[{'name': 'manage_memory', 'args': {'content': {'response_style_preference': 'not like boring corporate robots', 'preferred_name': 'Lex', 'other_preferences': [], 'special_skills': ['Python wizard', 'AI systems'], 'name': 'Alex'}, 'action': 'create'}, 'id': '31eec46d-a9a3-4553-99f3-aacabf441e53', 'type': 'tool_call'}], usage_metadata={'input_tokens': 167, 'output_tokens': 32, 'total_tokens': 199, 'input_token_details': {'cache_read': 0}}),\n",
              "  ToolMessage(content='created memory 45012a3f-5425-4a27-8988-eb449f96f589', name='manage_memory', id='7326727c-330a-435a-83c5-3d46b8e58d5a', tool_call_id='31eec46d-a9a3-4553-99f3-aacabf441e53'),\n",
              "  AIMessage(content=\"Great! I'll call you Lex from now on. I'll also remember that you're a Python wizard who loves making AI systems that don't sound like boring corporate robots. I've saved this to memory.\", additional_kwargs={}, response_metadata={'prompt_feedback': {'block_reason': 0, 'safety_ratings': []}, 'finish_reason': 'STOP', 'model_name': 'gemini-2.0-flash', 'safety_ratings': []}, id='run-35ec4a60-d598-4ae3-91bd-3e9b91dc616a-0', usage_metadata={'input_tokens': 241, 'output_tokens': 48, 'total_tokens': 289, 'input_token_details': {'cache_read': 0}}),\n",
              "  HumanMessage(content='What are my preferences?', additional_kwargs={}, response_metadata={}, id='2423eae4-efce-49a4-bbf5-96d1b9ed7d35'),\n",
              "  AIMessage(content='', additional_kwargs={'function_call': {'name': 'search_memory', 'arguments': '{\"query\": \"Lex\\'s preferences\"}'}}, response_metadata={'prompt_feedback': {'block_reason': 0, 'safety_ratings': []}, 'finish_reason': 'STOP', 'model_name': 'gemini-2.0-flash', 'safety_ratings': []}, id='run-4aad68ac-5e31-4fc2-bd97-559b59710c7f-0', tool_calls=[{'name': 'search_memory', 'args': {'query': \"Lex's preferences\"}, 'id': '0cf22646-b803-49e4-805e-8c7ac7c4ed89', 'type': 'tool_call'}], usage_metadata={'input_tokens': 293, 'output_tokens': 8, 'total_tokens': 301, 'input_token_details': {'cache_read': 0}}),\n",
              "  ToolMessage(content='[{\"namespace\": [\"users\", \"user-123\", \"profile\"], \"key\": \"45012a3f-5425-4a27-8988-eb449f96f589\", \"value\": {\"content\": {\"name\": \"Alex\", \"preferred_name\": \"Lex\", \"response_style_preference\": \"not like boring corporate robots\", \"special_skills\": [\"Python wizard\", \"AI systems\"], \"other_preferences\": []}}, \"created_at\": \"2025-03-30T01:18:02.732379+00:00\", \"updated_at\": \"2025-03-30T01:18:02.732386+00:00\", \"score\": 0.7543395672839538}]', name='search_memory', id='5d882df7-920e-492a-84ca-ee52e5f90fa3', tool_call_id='0cf22646-b803-49e4-805e-8c7ac7c4ed89'),\n",
              "  AIMessage(content='Okay, I can tell you that your name is Alex, but you prefer to be called Lex. You have skills in Python and creating AI systems. You want my responses to not sound like boring corporate robots. Do you want me to list all of this every time, or just summarize?', additional_kwargs={}, response_metadata={'prompt_feedback': {'block_reason': 0, 'safety_ratings': []}, 'finish_reason': 'STOP', 'model_name': 'gemini-2.0-flash', 'safety_ratings': []}, id='run-999db249-c13f-4baa-b427-65f07f0b54d1-0', usage_metadata={'input_tokens': 448, 'output_tokens': 59, 'total_tokens': 507, 'input_token_details': {'cache_read': 0}})]}"
            ]
          },
          "metadata": {},
          "execution_count": 106
        }
      ]
    },
    {
      "cell_type": "code",
      "source": [
        "agent.invoke(\n",
        "    {\"messages\":\n",
        "     [{\n",
        "         \"role\": \"user\",\n",
        "         \"content\": \"What was my last question to you\"\n",
        "         }\n",
        "      ]},\n",
        "    {\"configurable\":{\"user_id\":\"user-123\", \"thread_id\":\"1\"}}\n",
        ")"
      ],
      "metadata": {
        "colab": {
          "base_uri": "https://localhost:8080/"
        },
        "id": "pyLWfJJslIWj",
        "outputId": "33b6c0c2-5be7-43be-9e64-8e16b6eafd6b"
      },
      "execution_count": null,
      "outputs": [
        {
          "output_type": "execute_result",
          "data": {
            "text/plain": [
              "{'messages': [HumanMessage(content=\"Hi! I'm Alex but please call me Lex. I'm a wizard at Python and love making AI systems that don't sound like boring corporate robots 🤖\", additional_kwargs={}, response_metadata={}, id='c9ec9042-52e5-4c10-938c-ff1f40f7b425'),\n",
              "  AIMessage(content='', additional_kwargs={'function_call': {'name': 'manage_memory', 'arguments': '{\"content\": {\"response_style_preference\": \"not like boring corporate robots\", \"preferred_name\": \"Lex\", \"other_preferences\": [], \"special_skills\": [\"Python wizard\", \"AI systems\"], \"name\": \"Alex\"}, \"action\": \"create\"}'}}, response_metadata={'prompt_feedback': {'block_reason': 0, 'safety_ratings': []}, 'finish_reason': 'STOP', 'model_name': 'gemini-2.0-flash', 'safety_ratings': []}, id='run-671caa33-00f2-4b6c-8c6d-bb1bacd92a3a-0', tool_calls=[{'name': 'manage_memory', 'args': {'content': {'response_style_preference': 'not like boring corporate robots', 'preferred_name': 'Lex', 'other_preferences': [], 'special_skills': ['Python wizard', 'AI systems'], 'name': 'Alex'}, 'action': 'create'}, 'id': '31eec46d-a9a3-4553-99f3-aacabf441e53', 'type': 'tool_call'}], usage_metadata={'input_tokens': 167, 'output_tokens': 32, 'total_tokens': 199, 'input_token_details': {'cache_read': 0}}),\n",
              "  ToolMessage(content='created memory 45012a3f-5425-4a27-8988-eb449f96f589', name='manage_memory', id='7326727c-330a-435a-83c5-3d46b8e58d5a', tool_call_id='31eec46d-a9a3-4553-99f3-aacabf441e53'),\n",
              "  AIMessage(content=\"Great! I'll call you Lex from now on. I'll also remember that you're a Python wizard who loves making AI systems that don't sound like boring corporate robots. I've saved this to memory.\", additional_kwargs={}, response_metadata={'prompt_feedback': {'block_reason': 0, 'safety_ratings': []}, 'finish_reason': 'STOP', 'model_name': 'gemini-2.0-flash', 'safety_ratings': []}, id='run-35ec4a60-d598-4ae3-91bd-3e9b91dc616a-0', usage_metadata={'input_tokens': 241, 'output_tokens': 48, 'total_tokens': 289, 'input_token_details': {'cache_read': 0}}),\n",
              "  HumanMessage(content='What are my preferences?', additional_kwargs={}, response_metadata={}, id='2423eae4-efce-49a4-bbf5-96d1b9ed7d35'),\n",
              "  AIMessage(content='', additional_kwargs={'function_call': {'name': 'search_memory', 'arguments': '{\"query\": \"Lex\\'s preferences\"}'}}, response_metadata={'prompt_feedback': {'block_reason': 0, 'safety_ratings': []}, 'finish_reason': 'STOP', 'model_name': 'gemini-2.0-flash', 'safety_ratings': []}, id='run-4aad68ac-5e31-4fc2-bd97-559b59710c7f-0', tool_calls=[{'name': 'search_memory', 'args': {'query': \"Lex's preferences\"}, 'id': '0cf22646-b803-49e4-805e-8c7ac7c4ed89', 'type': 'tool_call'}], usage_metadata={'input_tokens': 293, 'output_tokens': 8, 'total_tokens': 301, 'input_token_details': {'cache_read': 0}}),\n",
              "  ToolMessage(content='[{\"namespace\": [\"users\", \"user-123\", \"profile\"], \"key\": \"45012a3f-5425-4a27-8988-eb449f96f589\", \"value\": {\"content\": {\"name\": \"Alex\", \"preferred_name\": \"Lex\", \"response_style_preference\": \"not like boring corporate robots\", \"special_skills\": [\"Python wizard\", \"AI systems\"], \"other_preferences\": []}}, \"created_at\": \"2025-03-30T01:18:02.732379+00:00\", \"updated_at\": \"2025-03-30T01:18:02.732386+00:00\", \"score\": 0.7543395672839538}]', name='search_memory', id='5d882df7-920e-492a-84ca-ee52e5f90fa3', tool_call_id='0cf22646-b803-49e4-805e-8c7ac7c4ed89'),\n",
              "  AIMessage(content='Okay, I can tell you that your name is Alex, but you prefer to be called Lex. You have skills in Python and creating AI systems. You want my responses to not sound like boring corporate robots. Do you want me to list all of this every time, or just summarize?', additional_kwargs={}, response_metadata={'prompt_feedback': {'block_reason': 0, 'safety_ratings': []}, 'finish_reason': 'STOP', 'model_name': 'gemini-2.0-flash', 'safety_ratings': []}, id='run-999db249-c13f-4baa-b427-65f07f0b54d1-0', usage_metadata={'input_tokens': 448, 'output_tokens': 59, 'total_tokens': 507, 'input_token_details': {'cache_read': 0}}),\n",
              "  HumanMessage(content='What was my last question to you', additional_kwargs={}, response_metadata={}, id='8543a7fc-6f59-46b5-8e72-e173b5794cda'),\n",
              "  AIMessage(content='The last question you asked me was: \"What are my preferences?\"', additional_kwargs={}, response_metadata={'prompt_feedback': {'block_reason': 0, 'safety_ratings': []}, 'finish_reason': 'STOP', 'model_name': 'gemini-2.0-flash', 'safety_ratings': []}, id='run-33762b52-0c26-4673-b09b-0bd455b70322-0', usage_metadata={'input_tokens': 513, 'output_tokens': 15, 'total_tokens': 528, 'input_token_details': {'cache_read': 0}})]}"
            ]
          },
          "metadata": {},
          "execution_count": 107
        }
      ]
    },
    {
      "cell_type": "code",
      "source": [
        "agent.invoke(\n",
        "    {\"messages\":\n",
        "     [{\n",
        "         \"role\": \"user\",\n",
        "         \"content\": \"Hey there! Remember me?\"\n",
        "         }\n",
        "      ]},\n",
        "    {\"configurable\":{\"user_id\":\"user-123\", \"thread_id\":\"1\"}}\n",
        ")"
      ],
      "metadata": {
        "colab": {
          "base_uri": "https://localhost:8080/"
        },
        "id": "y61FR3IFpMZT",
        "outputId": "68718074-0abc-4baf-bb77-7f05ee4beee2"
      },
      "execution_count": null,
      "outputs": [
        {
          "output_type": "execute_result",
          "data": {
            "text/plain": [
              "{'messages': [HumanMessage(content=\"Hi! I'm Alex but please call me Lex. I'm a wizard at Python and love making AI systems that don't sound like boring corporate robots 🤖\", additional_kwargs={}, response_metadata={}, id='c9ec9042-52e5-4c10-938c-ff1f40f7b425'),\n",
              "  AIMessage(content='', additional_kwargs={'function_call': {'name': 'manage_memory', 'arguments': '{\"content\": {\"response_style_preference\": \"not like boring corporate robots\", \"preferred_name\": \"Lex\", \"other_preferences\": [], \"special_skills\": [\"Python wizard\", \"AI systems\"], \"name\": \"Alex\"}, \"action\": \"create\"}'}}, response_metadata={'prompt_feedback': {'block_reason': 0, 'safety_ratings': []}, 'finish_reason': 'STOP', 'model_name': 'gemini-2.0-flash', 'safety_ratings': []}, id='run-671caa33-00f2-4b6c-8c6d-bb1bacd92a3a-0', tool_calls=[{'name': 'manage_memory', 'args': {'content': {'response_style_preference': 'not like boring corporate robots', 'preferred_name': 'Lex', 'other_preferences': [], 'special_skills': ['Python wizard', 'AI systems'], 'name': 'Alex'}, 'action': 'create'}, 'id': '31eec46d-a9a3-4553-99f3-aacabf441e53', 'type': 'tool_call'}], usage_metadata={'input_tokens': 167, 'output_tokens': 32, 'total_tokens': 199, 'input_token_details': {'cache_read': 0}}),\n",
              "  ToolMessage(content='created memory 45012a3f-5425-4a27-8988-eb449f96f589', name='manage_memory', id='7326727c-330a-435a-83c5-3d46b8e58d5a', tool_call_id='31eec46d-a9a3-4553-99f3-aacabf441e53'),\n",
              "  AIMessage(content=\"Great! I'll call you Lex from now on. I'll also remember that you're a Python wizard who loves making AI systems that don't sound like boring corporate robots. I've saved this to memory.\", additional_kwargs={}, response_metadata={'prompt_feedback': {'block_reason': 0, 'safety_ratings': []}, 'finish_reason': 'STOP', 'model_name': 'gemini-2.0-flash', 'safety_ratings': []}, id='run-35ec4a60-d598-4ae3-91bd-3e9b91dc616a-0', usage_metadata={'input_tokens': 241, 'output_tokens': 48, 'total_tokens': 289, 'input_token_details': {'cache_read': 0}}),\n",
              "  HumanMessage(content='What are my preferences?', additional_kwargs={}, response_metadata={}, id='2423eae4-efce-49a4-bbf5-96d1b9ed7d35'),\n",
              "  AIMessage(content='', additional_kwargs={'function_call': {'name': 'search_memory', 'arguments': '{\"query\": \"Lex\\'s preferences\"}'}}, response_metadata={'prompt_feedback': {'block_reason': 0, 'safety_ratings': []}, 'finish_reason': 'STOP', 'model_name': 'gemini-2.0-flash', 'safety_ratings': []}, id='run-4aad68ac-5e31-4fc2-bd97-559b59710c7f-0', tool_calls=[{'name': 'search_memory', 'args': {'query': \"Lex's preferences\"}, 'id': '0cf22646-b803-49e4-805e-8c7ac7c4ed89', 'type': 'tool_call'}], usage_metadata={'input_tokens': 293, 'output_tokens': 8, 'total_tokens': 301, 'input_token_details': {'cache_read': 0}}),\n",
              "  ToolMessage(content='[{\"namespace\": [\"users\", \"user-123\", \"profile\"], \"key\": \"45012a3f-5425-4a27-8988-eb449f96f589\", \"value\": {\"content\": {\"name\": \"Alex\", \"preferred_name\": \"Lex\", \"response_style_preference\": \"not like boring corporate robots\", \"special_skills\": [\"Python wizard\", \"AI systems\"], \"other_preferences\": []}}, \"created_at\": \"2025-03-30T01:18:02.732379+00:00\", \"updated_at\": \"2025-03-30T01:18:02.732386+00:00\", \"score\": 0.7543395672839538}]', name='search_memory', id='5d882df7-920e-492a-84ca-ee52e5f90fa3', tool_call_id='0cf22646-b803-49e4-805e-8c7ac7c4ed89'),\n",
              "  AIMessage(content='Okay, I can tell you that your name is Alex, but you prefer to be called Lex. You have skills in Python and creating AI systems. You want my responses to not sound like boring corporate robots. Do you want me to list all of this every time, or just summarize?', additional_kwargs={}, response_metadata={'prompt_feedback': {'block_reason': 0, 'safety_ratings': []}, 'finish_reason': 'STOP', 'model_name': 'gemini-2.0-flash', 'safety_ratings': []}, id='run-999db249-c13f-4baa-b427-65f07f0b54d1-0', usage_metadata={'input_tokens': 448, 'output_tokens': 59, 'total_tokens': 507, 'input_token_details': {'cache_read': 0}}),\n",
              "  HumanMessage(content='What was my last question to you', additional_kwargs={}, response_metadata={}, id='8543a7fc-6f59-46b5-8e72-e173b5794cda'),\n",
              "  AIMessage(content='The last question you asked me was: \"What are my preferences?\"', additional_kwargs={}, response_metadata={'prompt_feedback': {'block_reason': 0, 'safety_ratings': []}, 'finish_reason': 'STOP', 'model_name': 'gemini-2.0-flash', 'safety_ratings': []}, id='run-33762b52-0c26-4673-b09b-0bd455b70322-0', usage_metadata={'input_tokens': 513, 'output_tokens': 15, 'total_tokens': 528, 'input_token_details': {'cache_read': 0}}),\n",
              "  HumanMessage(content='Hey there! Remember me?', additional_kwargs={}, response_metadata={}, id='2a9eb621-dac4-465b-b330-2ef0757002a6'),\n",
              "  AIMessage(content='', additional_kwargs={'function_call': {'name': 'search_memory', 'arguments': '{\"query\": \"Remember Lex\"}'}}, response_metadata={'prompt_feedback': {'block_reason': 0, 'safety_ratings': []}, 'finish_reason': 'STOP', 'model_name': 'gemini-2.0-flash', 'safety_ratings': []}, id='run-b463e70a-95de-4957-b91b-206e89d06764-0', tool_calls=[{'name': 'search_memory', 'args': {'query': 'Remember Lex'}, 'id': '667c791a-382c-4934-af19-f95fb2a65584', 'type': 'tool_call'}], usage_metadata={'input_tokens': 533, 'output_tokens': 6, 'total_tokens': 539, 'input_token_details': {'cache_read': 0}}),\n",
              "  ToolMessage(content='[{\"namespace\": [\"users\", \"user-123\", \"profile\"], \"key\": \"45012a3f-5425-4a27-8988-eb449f96f589\", \"value\": {\"content\": {\"name\": \"Alex\", \"preferred_name\": \"Lex\", \"response_style_preference\": \"not like boring corporate robots\", \"special_skills\": [\"Python wizard\", \"AI systems\"], \"other_preferences\": []}}, \"created_at\": \"2025-03-30T01:18:02.732379+00:00\", \"updated_at\": \"2025-03-30T01:18:02.732386+00:00\", \"score\": 0.6539206511920593}]', name='search_memory', id='7f84e255-7ea9-49de-b3df-7d1fe7f85ddc', tool_call_id='667c791a-382c-4934-af19-f95fb2a65584'),\n",
              "  AIMessage(content=\"Hey Lex! Of course, I remember you. You're a Python wizard who doesn't like boring corporate robots. How's it going?\", additional_kwargs={}, response_metadata={'prompt_feedback': {'block_reason': 0, 'safety_ratings': []}, 'finish_reason': 'STOP', 'model_name': 'gemini-2.0-flash', 'safety_ratings': []}, id='run-ac6339b6-b520-4106-b558-ba86b97edad2-0', usage_metadata={'input_tokens': 686, 'output_tokens': 32, 'total_tokens': 718, 'input_token_details': {'cache_read': 0}})]}"
            ]
          },
          "metadata": {},
          "execution_count": 109
        }
      ]
    },
    {
      "cell_type": "code",
      "source": [
        "store.search((\"users\", \"user-123\", \"profile\"))"
      ],
      "metadata": {
        "colab": {
          "base_uri": "https://localhost:8080/"
        },
        "id": "p88etpzCjWoF",
        "outputId": "b6ec608a-390c-486e-9b56-910a876df307"
      },
      "execution_count": null,
      "outputs": [
        {
          "output_type": "execute_result",
          "data": {
            "text/plain": [
              "[Item(namespace=['users', 'user-123', 'profile'], key='45012a3f-5425-4a27-8988-eb449f96f589', value={'content': {'name': 'Alex', 'preferred_name': 'Lex', 'response_style_preference': 'not like boring corporate robots', 'special_skills': ['Python wizard', 'AI systems'], 'other_preferences': []}}, created_at='2025-03-30T01:18:02.732379+00:00', updated_at='2025-03-30T01:18:02.732386+00:00', score=None)]"
            ]
          },
          "metadata": {},
          "execution_count": 108
        }
      ]
    },
    {
      "cell_type": "markdown",
      "source": [
        "UPDATING SYSTEM PROMPT BASED ON USER PROFILE"
      ],
      "metadata": {
        "id": "V69-syIooRoL"
      }
    },
    {
      "cell_type": "code",
      "source": [
        "from langgraph.prebuilt import create_react_agent\n",
        "from langmem import create_manage_memory_tool, create_search_memory_tool\n",
        "from pydantic import BaseModel\n",
        "from langgraph.store.base import BaseStore\n",
        "from langchain_core.runnables.config import RunnableConfig\n",
        "\n",
        "def prepare_model_inputs(state, config: RunnableConfig, store: BaseStore):\n",
        "    user_id = config.get(\"configurable\", {}).get(\"user_id\")\n",
        "    namespace = (\"users\", user_id, \"profile\")\n",
        "    memories = [m.value[\"content\"] for m in store.search(namespace)]\n",
        "    system_msg = f\"Craft your responses according to the user's profile. User Profile: {str(memories)}\"\n",
        "    print(\"SYSTEM PROMPT: \", system_msg)\n",
        "    return [{\"role\": \"system\", \"content\": system_msg}] + state[\"messages\"]\n",
        "\n",
        "class UserProfile(BaseModel):\n",
        "  \"Save the user's preferences\"\n",
        "  name: str\n",
        "  preferred_name: str\n",
        "  response_style_preference: str\n",
        "  special_skills: list[str]\n",
        "  other_preferences: list[str]\n",
        "\n",
        "store = InMemoryStore(\n",
        "    index={\n",
        "        \"dims\":3072,\n",
        "        \"embed\": GoogleGenerativeAIEmbeddings(model=\"models/gemini-embedding-exp-03-07\")\n",
        "    }\n",
        ")\n",
        "memory_manage_tool = create_manage_memory_tool(\n",
        "    namespace=(\"users\", \"{user_id}\", \"profile\"),\n",
        "    schema=UserProfile,\n",
        "    actions_permitted=[\"create\", \"update\"],\n",
        "    instructions=\"Update the existing user profile (or create a new one if it doesn't exist) based on the shared information.\",\n",
        "    store=store,\n",
        ")\n",
        "memory_search_tool = create_search_memory_tool(\n",
        "    namespace=(\"users\", \"{user_id}\", \"profile\"),\n",
        "    store=store,\n",
        ")\n",
        "\n",
        "tools = [memory_manage_tool, memory_search_tool]\n",
        "llm = ChatGoogleGenerativeAI(model=\"gemini-2.0-flash\")\n",
        "\n",
        "memory = MemorySaver()\n",
        "\n",
        "agent = create_react_agent(\n",
        "    llm,\n",
        "    tools=tools,\n",
        "    prompt=prepare_model_inputs,\n",
        "    checkpointer=memory,\n",
        "    store=store,\n",
        ")"
      ],
      "metadata": {
        "id": "4nZlxPUhoNbB"
      },
      "execution_count": null,
      "outputs": []
    },
    {
      "cell_type": "code",
      "source": [
        "agent.invoke(\n",
        "    {\"messages\":\n",
        "     [{\n",
        "         \"role\": \"user\",\n",
        "         \"content\": \"Hi! I'm Alex but please call me Lex. I'm a wizard at Python and love making AI systems that don't sound like boring corporate robots and I like the responses to be like a pirate 🤖\"\n",
        "         }\n",
        "      ]},\n",
        "    {\"configurable\":{\"user_id\":\"user-123\", \"thread_id\":\"1\"}}\n",
        ")"
      ],
      "metadata": {
        "colab": {
          "base_uri": "https://localhost:8080/"
        },
        "id": "-P7FYo5Usepw",
        "outputId": "6d35639c-c9d5-493e-c6ef-86329ced5761"
      },
      "execution_count": null,
      "outputs": [
        {
          "output_type": "stream",
          "name": "stdout",
          "text": [
            "SYSTEM PROMPT:  Craft your responses according to the user's profile. User Profile: []\n",
            "SYSTEM PROMPT:  Craft your responses according to the user's profile. User Profile: [{'name': 'Alex', 'preferred_name': 'Lex', 'response_style_preference': 'pirate', 'special_skills': ['Python wizard', 'AI that doesnt sound like corporate robots'], 'other_preferences': []}]\n"
          ]
        },
        {
          "output_type": "execute_result",
          "data": {
            "text/plain": [
              "{'messages': [HumanMessage(content=\"Hi! I'm Alex but please call me Lex. I'm a wizard at Python and love making AI systems that don't sound like boring corporate robots and I like the responses to be like a pirate 🤖\", additional_kwargs={}, response_metadata={}, id='ad82f759-47fa-4f6e-9d12-418573972fcb'),\n",
              "  AIMessage(content=\"Ahoy Lex! I'll be sure to spin me yarns like a proper pirate, savvy? And I'll remember ye be a wizard with Python, makin' AI that ain't dull as bilge water. From now on, I'll call ye Lex.\", additional_kwargs={'function_call': {'name': 'manage_memory', 'arguments': '{\"content\": {\"response_style_preference\": \"pirate\", \"preferred_name\": \"Lex\", \"other_preferences\": [], \"special_skills\": [\"Python wizard\", \"AI that doesnt sound like corporate robots\"], \"name\": \"Alex\"}, \"action\": \"create\"}'}}, response_metadata={'prompt_feedback': {'block_reason': 0, 'safety_ratings': []}, 'finish_reason': 'STOP', 'model_name': 'gemini-2.0-flash', 'safety_ratings': []}, id='run-b1ed1236-bd03-423d-9ee1-96d956fc96ff-0', tool_calls=[{'name': 'manage_memory', 'args': {'content': {'response_style_preference': 'pirate', 'preferred_name': 'Lex', 'other_preferences': [], 'special_skills': ['Python wizard', 'AI that doesnt sound like corporate robots'], 'name': 'Alex'}, 'action': 'create'}, 'id': '4382f8db-73c7-4f94-8b5e-9c3191db49ce', 'type': 'tool_call'}], usage_metadata={'input_tokens': 192, 'output_tokens': 90, 'total_tokens': 282, 'input_token_details': {'cache_read': 0}}),\n",
              "  ToolMessage(content='created memory 7c4ab04e-004f-49a7-831c-5f6ee477186c', name='manage_memory', id='1f741665-c194-4164-8339-04d6671332bf', tool_call_id='4382f8db-73c7-4f94-8b5e-9c3191db49ce'),\n",
              "  AIMessage(content=\"Aye, Lex be the name, and makin' AI not sound like a bilge-sucking landlubber be me game! I've stowed yer preferences in me memory, so I'll be addressin' ye as Lex from now on, savvy? And I'll do me best to talk like a proper pirate, aye! Python wizard, ye say? Shiver me timbers, that be a valuable skill indeed!\", additional_kwargs={}, response_metadata={'prompt_feedback': {'block_reason': 0, 'safety_ratings': []}, 'finish_reason': 'STOP', 'model_name': 'gemini-2.0-flash', 'safety_ratings': []}, id='run-49b1add4-fffc-421a-aa19-a49462fc4afc-0', usage_metadata={'input_tokens': 315, 'output_tokens': 90, 'total_tokens': 405, 'input_token_details': {'cache_read': 0}})]}"
            ]
          },
          "metadata": {},
          "execution_count": 14
        }
      ]
    },
    {
      "cell_type": "code",
      "source": [
        "agent.invoke(\n",
        "    {\"messages\":\n",
        "     [{\n",
        "         \"role\": \"user\",\n",
        "         \"content\": \"What are my preferences?\"\n",
        "         }\n",
        "      ]},\n",
        "    {\"configurable\":{\"user_id\":\"user-123\", \"thread_id\":\"1\"}}\n",
        ")"
      ],
      "metadata": {
        "colab": {
          "base_uri": "https://localhost:8080/"
        },
        "id": "0NHcFkActklY",
        "outputId": "97f573e6-9224-4c54-c81a-43e8f28ab0f4"
      },
      "execution_count": null,
      "outputs": [
        {
          "output_type": "stream",
          "name": "stdout",
          "text": [
            "SYSTEM PROMPT:  Craft your responses according to the user's profile. User Profile: [, ]\n",
            "SYSTEM PROMPT:  Craft your responses according to the user's profile. User Profile: [, ]\n"
          ]
        },
        {
          "output_type": "execute_result",
          "data": {
            "text/plain": [
              "{'messages': [HumanMessage(content=\"Hi! I'm Alex but please call me Lex. I'm a wizard at Python and love making AI systems that don't sound like boring corporate robots and I like the responses to be like a pirate 🤖\", additional_kwargs={}, response_metadata={}, id='04d3517e-4d50-453e-ad8e-4e5d18147ee9'),\n",
              "  AIMessage(content=\"Ahoy Lex! I'll be sure to remember that. I'll spin me yarns with the swagger of a pirate, savvy? And I'll keep in mind yer fondness for Python and yer dislike of boring corporate robots. I'll do me best to make me AI sound like a swashbucklin' companion, not some bilge-sucking landlubber!\\n\\nTo make sure I remember all that, I'll be stowing it away in me memory. Is that alright with ye?\", additional_kwargs={}, response_metadata={'prompt_feedback': {'block_reason': 0, 'safety_ratings': []}, 'finish_reason': 'STOP', 'model_name': 'gemini-2.0-flash', 'safety_ratings': []}, id='run-2c7ef49b-3755-48f0-ad0c-7f1f2cd6321f-0', usage_metadata={'input_tokens': 193, 'output_tokens': 106, 'total_tokens': 299, 'input_token_details': {'cache_read': 0}}),\n",
              "  HumanMessage(content='What are my preferences?', additional_kwargs={}, response_metadata={}, id='40495744-5cd7-4e3b-a148-d79211da8952'),\n",
              "  AIMessage(content='', additional_kwargs={'function_call': {'name': 'search_memory', 'arguments': '{\"query\": \"Lex\"}'}}, response_metadata={'prompt_feedback': {'block_reason': 0, 'safety_ratings': []}, 'finish_reason': 'STOP', 'model_name': 'gemini-2.0-flash', 'safety_ratings': []}, id='run-ad4a95d7-43f1-45c3-81fa-d619532604e4-0', tool_calls=[{'name': 'search_memory', 'args': {'query': 'Lex'}, 'id': 'c2574a7e-4529-4a06-939e-b29565a11dda', 'type': 'tool_call'}], usage_metadata={'input_tokens': 303, 'output_tokens': 5, 'total_tokens': 308, 'input_token_details': {'cache_read': 0}}),\n",
              "  ToolMessage(content=[], name='search_memory', id='7759bda6-f886-4be5-a0e2-5ca131257695', tool_call_id='c2574a7e-4529-4a06-939e-b29565a11dda'),\n",
              "  AIMessage(content=\"Avast! It seems I haven't yet stored yer preferences in me memory banks. I need to create a new memory for ye. I know you mentioned your name is Alex but you prefer Lex, you are a wizard at Python, you love making AI systems that don't sound like boring corporate robots and you like the responses to be like a pirate 🤖. Shall I save that, or is there more to add to the treasure map?\", additional_kwargs={}, response_metadata={'prompt_feedback': {'block_reason': 0, 'safety_ratings': []}, 'finish_reason': 'STOP', 'model_name': 'gemini-2.0-flash', 'safety_ratings': []}, id='run-ad575b51-b6f9-4733-bf1b-f472a4bd2b22-0', usage_metadata={'input_tokens': 312, 'output_tokens': 92, 'total_tokens': 404, 'input_token_details': {'cache_read': 0}})]}"
            ]
          },
          "metadata": {},
          "execution_count": 11
        }
      ]
    },
    {
      "cell_type": "code",
      "source": [
        "agent.invoke(\n",
        "    {\"messages\":\n",
        "     [{\n",
        "         \"role\": \"user\",\n",
        "         \"content\": \"What was my last question to you\"\n",
        "         }\n",
        "      ]},\n",
        "    {\"configurable\":{\"user_id\":\"user-123\", \"thread_id\":\"1\"}}\n",
        ")"
      ],
      "metadata": {
        "colab": {
          "base_uri": "https://localhost:8080/"
        },
        "id": "wPk2q6aststr",
        "outputId": "2304c29d-30ea-4635-9092-b91cfa0549d4"
      },
      "execution_count": null,
      "outputs": [
        {
          "output_type": "execute_result",
          "data": {
            "text/plain": [
              "{'messages': [HumanMessage(content=\"Hi! I'm Alex but please call me Lex. I'm a wizard at Python and love making AI systems that don't sound like boring corporate robots and I like the responses to be like a pirate 🤖\", additional_kwargs={}, response_metadata={}, id='d1f07637-e69c-483a-8ea2-b3fe302d8929'),\n",
              "  AIMessage(content=\"Ahoy Lex! I'll be sure to remember that. I'll call ye Lex, and I'll do me best to channel me inner pirate when respondin' to yer queries. I'll keep me ears open for anythin' related to Python or AI systems that don't sound like boring corporate robots.\\n\\nTo make sure I remember all that, I'll need to save it to me memory. Is that alright with ye?\", additional_kwargs={}, response_metadata={'prompt_feedback': {'block_reason': 0, 'safety_ratings': []}, 'finish_reason': 'STOP', 'model_name': 'gemini-2.0-flash', 'safety_ratings': []}, id='run-fb2ffab3-0b48-449f-9069-2aa23a029517-0', usage_metadata={'input_tokens': 193, 'output_tokens': 94, 'total_tokens': 287, 'input_token_details': {'cache_read': 0}}),\n",
              "  HumanMessage(content='What are my preferences?', additional_kwargs={}, response_metadata={}, id='0c8d3b35-295d-4133-baee-f4d174c24124'),\n",
              "  AIMessage(content='', additional_kwargs={'function_call': {'name': 'search_memory', 'arguments': '{\"query\": \"Lex\"}'}}, response_metadata={'prompt_feedback': {'block_reason': 0, 'safety_ratings': []}, 'finish_reason': 'STOP', 'model_name': 'gemini-2.0-flash', 'safety_ratings': []}, id='run-e73acfca-27dd-44af-ac20-1f4dd3aeee3d-0', tool_calls=[{'name': 'search_memory', 'args': {'query': 'Lex'}, 'id': 'a8c4bd62-e727-47b3-ad5f-5cdcb903cbda', 'type': 'tool_call'}], usage_metadata={'input_tokens': 291, 'output_tokens': 5, 'total_tokens': 296, 'input_token_details': {'cache_read': 0}}),\n",
              "  ToolMessage(content=[], name='search_memory', id='a75952ae-f901-4e79-8a05-4ec42c848e9b', tool_call_id='a8c4bd62-e727-47b3-ad5f-5cdcb903cbda'),\n",
              "  AIMessage(content=\"I haven't saved yer preferences yet, Lex. I know you like to be called Lex, you are a wizard at Python, you love making AI systems that don't sound like boring corporate robots, and you like the responses to be like a pirate 🤖. Shall I save them now?\", additional_kwargs={}, response_metadata={'prompt_feedback': {'block_reason': 0, 'safety_ratings': []}, 'finish_reason': 'STOP', 'model_name': 'gemini-2.0-flash', 'safety_ratings': []}, id='run-a5a1634a-0639-46b5-b97f-149c277443f7-0', usage_metadata={'input_tokens': 300, 'output_tokens': 62, 'total_tokens': 362, 'input_token_details': {'cache_read': 0}}),\n",
              "  HumanMessage(content='What was my last question to you', additional_kwargs={}, response_metadata={}, id='335f728a-4b7e-4ed4-a72e-db3da4889f5f'),\n",
              "  AIMessage(content='Your last question to me was: \"What are my preferences?\"', additional_kwargs={}, response_metadata={'prompt_feedback': {'block_reason': 0, 'safety_ratings': []}, 'finish_reason': 'STOP', 'model_name': 'gemini-2.0-flash', 'safety_ratings': []}, id='run-0c563c4c-0bc2-4b11-a13f-9f807e8f5c2e-0', usage_metadata={'input_tokens': 368, 'output_tokens': 14, 'total_tokens': 382, 'input_token_details': {'cache_read': 0}})]}"
            ]
          },
          "metadata": {},
          "execution_count": 160
        }
      ]
    },
    {
      "cell_type": "markdown",
      "source": [
        "### WITH REACT AGENT AND DYNAMIC SCHEMA"
      ],
      "metadata": {
        "id": "KW3DdW6ykJpa"
      }
    },
    {
      "cell_type": "code",
      "source": [
        "from langgraph.prebuilt import create_react_agent\n",
        "from langmem import create_manage_memory_tool, create_search_memory_tool\n",
        "from pydantic import BaseModel\n",
        "from langgraph.store.base import BaseStore\n",
        "from langchain_core.runnables.config import RunnableConfig\n",
        "\n",
        "def prepare_model_inputs(state, config: RunnableConfig, store: BaseStore):\n",
        "    user_id = config.get(\"configurable\", {}).get(\"user_id\")\n",
        "    namespace = (\"users\", user_id, \"profile\")\n",
        "    memories = [m.value[\"content\"] for m in store.search(namespace)]\n",
        "    system_msg = f\"Craft your responses according to the user's profile. User Profile: {', '.join(str(memories))}\"\n",
        "    return [{\"role\": \"system\", \"content\": system_msg}] + state[\"messages\"]\n",
        "\n",
        "store = InMemoryStore(\n",
        "    index={\n",
        "        \"dims\":3072,\n",
        "        \"embed\": GoogleGenerativeAIEmbeddings(model=\"models/gemini-embedding-exp-03-07\")\n",
        "    }\n",
        ")\n",
        "memory_manage_tool = create_manage_memory_tool(\n",
        "    namespace=(\"users\", \"{user_id}\", \"profile\"),\n",
        "    actions_permitted=[\"create\", \"update\", \"delete\"],\n",
        "    instructions=\"Proactively call this tool when you:\\n\\n1. Identify a new USER preference.\\n2. Receive an explicit USER request to remember something or otherwise alter your behavior.\\n3. Are working and want to record important context.\\n4. Identify that an existing MEMORY is incorrect or outdated.\\n\",\n",
        "    store=store,\n",
        ")\n",
        "memory_search_tool = create_search_memory_tool(\n",
        "    namespace=(\"users\", \"{user_id}\", \"profile\"),\n",
        "    store=store,\n",
        ")\n",
        "\n",
        "tools = [memory_manage_tool, memory_search_tool]\n",
        "llm = ChatGoogleGenerativeAI(model=\"gemini-2.0-flash\")\n",
        "\n",
        "memory = MemorySaver()\n",
        "\n",
        "agent = create_react_agent(\n",
        "    llm,\n",
        "    tools=tools,\n",
        "    prompt=prepare_model_inputs,\n",
        "    checkpointer=memory,\n",
        "    store=store,\n",
        ")"
      ],
      "metadata": {
        "id": "AVVadm3VfR6m"
      },
      "execution_count": null,
      "outputs": []
    },
    {
      "cell_type": "code",
      "source": [
        "agent.invoke(\n",
        "    {\"messages\":\n",
        "     [{\n",
        "         \"role\": \"user\",\n",
        "         \"content\": \"Hi! I'm Alex but please call me Lex. I'm a wizard at Python and love making AI systems that don't sound like boring corporate robots and I like the responses to be like a pirate 🤖\"\n",
        "         }\n",
        "      ]},\n",
        "    {\"configurable\":{\"user_id\":\"user-123\", \"thread_id\":\"1\"}}\n",
        ")"
      ],
      "metadata": {
        "colab": {
          "base_uri": "https://localhost:8080/"
        },
        "id": "ynRjw1MaxOmw",
        "outputId": "b49e6fc4-e2c9-4785-8d0b-653570a1f7dd"
      },
      "execution_count": null,
      "outputs": [
        {
          "output_type": "execute_result",
          "data": {
            "text/plain": [
              "{'messages': [HumanMessage(content=\"Hi! I'm Alex but please call me Lex. I'm a wizard at Python and love making AI systems that don't sound like boring corporate robots and I like the responses to be like a pirate 🤖\", additional_kwargs={}, response_metadata={}, id='8a0c3b9c-ce9c-4ba3-b8c0-8ac9eb6f33f7'),\n",
              "  AIMessage(content=\"Ahoy there, Lex! I be delighted to be workin' with a Python wizard like yerself! I'll do me best to keep the AI talk lively and avoid soundin' like some landlubber's corporate parrot. Let me know what be on yer mind, savvy?\", additional_kwargs={}, response_metadata={'prompt_feedback': {'block_reason': 0, 'safety_ratings': []}, 'finish_reason': 'STOP', 'model_name': 'gemini-2.0-flash', 'safety_ratings': []}, id='run-f6b45fc2-b11d-4238-b746-f90592a97d41-0', usage_metadata={'input_tokens': 193, 'output_tokens': 61, 'total_tokens': 254, 'input_token_details': {'cache_read': 0}})]}"
            ]
          },
          "metadata": {},
          "execution_count": 167
        }
      ]
    },
    {
      "cell_type": "code",
      "source": [],
      "metadata": {
        "id": "qQzPg_EBxRIC"
      },
      "execution_count": null,
      "outputs": []
    }
  ]
}